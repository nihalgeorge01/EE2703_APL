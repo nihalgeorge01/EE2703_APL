{
 "metadata": {
  "language_info": {
   "codemirror_mode": {
    "name": "ipython",
    "version": 3
   },
   "file_extension": ".py",
   "mimetype": "text/x-python",
   "name": "python",
   "nbconvert_exporter": "python",
   "pygments_lexer": "ipython3",
   "version": 3
  },
  "orig_nbformat": 2
 },
 "nbformat": 4,
 "nbformat_minor": 2,
 "cells": [
  {
   "source": [
    "## ASSIGNMENT 1 : SPICE File Parsing\n",
    "\n",
    "Pseudocode  \n",
    "> bruh\n"
   ],
   "cell_type": "markdown",
   "metadata": {}
  },
  {
   "cell_type": "code",
   "execution_count": null,
   "metadata": {},
   "outputs": [],
   "source": [
    "def netlist_to_data(path):\n",
    "    try:\n",
    "        f = open(path, 'r')\n",
    "    except FileNotFoundError:\n",
    "        print(\"File not found\")\n",
    "        return -1\n",
    "\n",
    "    "
   ]
  }
 ]
}